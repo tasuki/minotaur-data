{
 "cells": [
  {
   "cell_type": "markdown",
   "metadata": {},
   "source": [
    "# Quoridor BGA stats"
   ]
  },
  {
   "cell_type": "markdown",
   "metadata": {},
   "source": [
    "A little over 200k Quoridor game records downloaded from Board Game Arena. I tried to be nice and asked BGA, but they didn't get back to me, which I took as a permission to scrape their website. They have since introduced replay limits, making it harder to scrape."
   ]
  },
  {
   "cell_type": "code",
   "execution_count": 1,
   "metadata": {},
   "outputs": [],
   "source": [
    "import numpy as np\n",
    "import pandas as pd\n",
    "import matplotlib.pyplot as plt\n",
    "\n",
    "%matplotlib inline"
   ]
  },
  {
   "cell_type": "code",
   "execution_count": 2,
   "metadata": {},
   "outputs": [
    {
     "data": {
      "text/plain": [
       "218784"
      ]
     },
     "execution_count": 2,
     "metadata": {},
     "output_type": "execute_result"
    }
   ],
   "source": [
    "data = pd.read_json(\"../data/bga-games-info.json\")\n",
    "data.count()[\"game_id\"]"
   ]
  },
  {
   "cell_type": "markdown",
   "metadata": {},
   "source": [
    "## Players"
   ]
  },
  {
   "cell_type": "markdown",
   "metadata": {},
   "source": [
    "Let's see how many players we have..."
   ]
  },
  {
   "cell_type": "code",
   "execution_count": 3,
   "metadata": {},
   "outputs": [
    {
     "data": {
      "text/plain": [
       "45091"
      ]
     },
     "execution_count": 3,
     "metadata": {},
     "output_type": "execute_result"
    }
   ],
   "source": [
    "played_as_x = data[\"x_name\"].value_counts()\n",
    "played_as_o = data[\"o_name\"].value_counts()\n",
    "games_played = played_as_x.combine(played_as_o, lambda x1, x2: x1 + x2, 0).sort_values(0, False)\n",
    "games_played.name = \"games_played\"\n",
    "games_played.count()"
   ]
  },
  {
   "cell_type": "markdown",
   "metadata": {},
   "source": [
    "Let's see the most active players and the activity distribution:"
   ]
  },
  {
   "cell_type": "code",
   "execution_count": 4,
   "metadata": {},
   "outputs": [
    {
     "data": {
      "text/plain": [
       "djkais        7474\n",
       "MatMat8501    4729\n",
       "ia18          4177\n",
       "Joao123       3679\n",
       "fischietto    3008\n",
       "Name: games_played, dtype: int64"
      ]
     },
     "execution_count": 4,
     "metadata": {},
     "output_type": "execute_result"
    }
   ],
   "source": [
    "games_played.head()"
   ]
  },
  {
   "cell_type": "code",
   "execution_count": 5,
   "metadata": {},
   "outputs": [
    {
     "data": {
      "text/plain": [
       "50%      2.0\n",
       "75%      5.0\n",
       "90%     12.0\n",
       "95%     24.0\n",
       "99%    124.0\n",
       "Name: games_played, dtype: float64"
      ]
     },
     "execution_count": 5,
     "metadata": {},
     "output_type": "execute_result"
    }
   ],
   "source": [
    "games_played.describe([.5, .75, .9, .95, .99])[[\"50%\", \"75%\", \"90%\", \"95%\", \"99%\"]]"
   ]
  },
  {
   "cell_type": "code",
   "execution_count": 6,
   "metadata": {},
   "outputs": [
    {
     "data": {
      "image/png": "[encoded data removed]",
      "text/plain": [
       "<matplotlib.figure.Figure at 0x7fe3cc2825f8>"
      ]
     },
     "metadata": {},
     "output_type": "display_data"
    }
   ],
   "source": [
    "plot = games_played.plot(logy=True)\n",
    "plot.set_ylabel(\"games played\")\n",
    "plot.set_xlabel(\"players\")\n",
    "pass"
   ]
  },
  {
   "cell_type": "markdown",
   "metadata": {},
   "source": [
    "We have some active players, and predictably there's a couple of players playing a lot of games, and lots of players who have only played one or two games. Playing 12 games puts one in the 10% of the most active players.\n",
    "\n",
    "Let's look at the active players further and check how the win ratio changes depending on whether the player goes first:"
   ]
  },
  {
   "cell_type": "code",
   "execution_count": 7,
   "metadata": {},
   "outputs": [],
   "source": [
    "x_won = data[data.winner == \"x\"][\"x_name\"].value_counts()\n",
    "x_won.name = \"won_as_starting_player\"\n",
    "o_won = data[data.winner == \"o\"][\"o_name\"].value_counts()\n",
    "o_won.name = \"won_as_last_player\"\n",
    "\n",
    "x_lost = data[data.winner == \"o\"][\"x_name\"].value_counts()\n",
    "x_lost.name = \"lost_as_starting_player\"\n",
    "o_lost = data[data.winner == \"x\"][\"o_name\"].value_counts()\n",
    "o_lost.name = \"lost_as_last_player\""
   ]
  },
  {
   "cell_type": "code",
   "execution_count": 8,
   "metadata": {},
   "outputs": [
    {
     "data": {
      "text/html": [
       "<div>\n",
       "<style scoped>\n",
       "    .dataframe tbody tr th:only-of-type {\n",
       "        vertical-align: middle;\n",
       "    }\n",
       "\n",
       "    .dataframe tbody tr th {\n",
       "        vertical-align: top;\n",
       "    }\n",
       "\n",
       "    .dataframe thead th {\n",
       "        text-align: right;\n",
       "    }\n",
       "</style>\n",
       "<table border=\"1\" class=\"dataframe\">\n",
       "  <thead>\n",
       "    <tr style=\"text-align: right;\">\n",
       "      <th></th>\n",
       "      <th>games_played</th>\n",
       "      <th>won_as_starting_player</th>\n",
       "      <th>won_as_last_player</th>\n",
       "      <th>lost_as_starting_player</th>\n",
       "      <th>lost_as_last_player</th>\n",
       "      <th>start_winratio</th>\n",
       "      <th>last_winratio</th>\n",
       "    </tr>\n",
       "  </thead>\n",
       "  <tbody>\n",
       "    <tr>\n",
       "      <th>djkais</th>\n",
       "      <td>7474</td>\n",
       "      <td>3013</td>\n",
       "      <td>2721</td>\n",
       "      <td>766</td>\n",
       "      <td>970</td>\n",
       "      <td>0.797301</td>\n",
       "      <td>0.737199</td>\n",
       "    </tr>\n",
       "    <tr>\n",
       "      <th>MatMat8501</th>\n",
       "      <td>4729</td>\n",
       "      <td>2087</td>\n",
       "      <td>1938</td>\n",
       "      <td>324</td>\n",
       "      <td>367</td>\n",
       "      <td>0.865616</td>\n",
       "      <td>0.840781</td>\n",
       "    </tr>\n",
       "    <tr>\n",
       "      <th>ia18</th>\n",
       "      <td>4177</td>\n",
       "      <td>1255</td>\n",
       "      <td>1153</td>\n",
       "      <td>828</td>\n",
       "      <td>933</td>\n",
       "      <td>0.602496</td>\n",
       "      <td>0.552733</td>\n",
       "    </tr>\n",
       "    <tr>\n",
       "      <th>Joao123</th>\n",
       "      <td>3679</td>\n",
       "      <td>1419</td>\n",
       "      <td>1287</td>\n",
       "      <td>475</td>\n",
       "      <td>496</td>\n",
       "      <td>0.749208</td>\n",
       "      <td>0.721817</td>\n",
       "    </tr>\n",
       "    <tr>\n",
       "      <th>fischietto</th>\n",
       "      <td>3008</td>\n",
       "      <td>1316</td>\n",
       "      <td>1255</td>\n",
       "      <td>201</td>\n",
       "      <td>235</td>\n",
       "      <td>0.867502</td>\n",
       "      <td>0.842282</td>\n",
       "    </tr>\n",
       "  </tbody>\n",
       "</table>\n",
       "</div>"
      ],
      "text/plain": [
       "            games_played  won_as_starting_player  won_as_last_player  \\\n",
       "djkais              7474                    3013                2721   \n",
       "MatMat8501          4729                    2087                1938   \n",
       "ia18                4177                    1255                1153   \n",
       "Joao123             3679                    1419                1287   \n",
       "fischietto          3008                    1316                1255   \n",
       "\n",
       "            lost_as_starting_player  lost_as_last_player  start_winratio  \\\n",
       "djkais                          766                  970        0.797301   \n",
       "MatMat8501                      324                  367        0.865616   \n",
       "ia18                            828                  933        0.602496   \n",
       "Joao123                         475                  496        0.749208   \n",
       "fischietto                      201                  235        0.867502   \n",
       "\n",
       "            last_winratio  \n",
       "djkais           0.737199  \n",
       "MatMat8501       0.840781  \n",
       "ia18             0.552733  \n",
       "Joao123          0.721817  \n",
       "fischietto       0.842282  "
      ]
     },
     "execution_count": 8,
     "metadata": {},
     "output_type": "execute_result"
    }
   ],
   "source": [
    "players = pd.DataFrame(games_played)\n",
    "players = players.join(x_won)\n",
    "players = players.join(o_won)\n",
    "players = players.join(x_lost)\n",
    "players = players.join(o_lost)\n",
    "players = players.fillna(0).astype(int)\n",
    "\n",
    "players[\"start_winratio\"] = players[\"won_as_starting_player\"] / (players[\"won_as_starting_player\"] + players[\"lost_as_starting_player\"])\n",
    "players[\"last_winratio\"] = players[\"won_as_last_player\"] / (players[\"won_as_last_player\"] + players[\"lost_as_last_player\"])\n",
    "players.head()"
   ]
  },
  {
   "cell_type": "markdown",
   "metadata": {},
   "source": [
    "Apparently, going first gives an advantage, but not a huge advantage.\n",
    "\n",
    "Let's see the won/lost ratio and overall win ratio."
   ]
  },
  {
   "cell_type": "code",
   "execution_count": 9,
   "metadata": {},
   "outputs": [
    {
     "data": {
      "text/html": [
       "<div>\n",
       "<style scoped>\n",
       "    .dataframe tbody tr th:only-of-type {\n",
       "        vertical-align: middle;\n",
       "    }\n",
       "\n",
       "    .dataframe tbody tr th {\n",
       "        vertical-align: top;\n",
       "    }\n",
       "\n",
       "    .dataframe thead th {\n",
       "        text-align: right;\n",
       "    }\n",
       "</style>\n",
       "<table border=\"1\" class=\"dataframe\">\n",
       "  <thead>\n",
       "    <tr style=\"text-align: right;\">\n",
       "      <th></th>\n",
       "      <th>games_played</th>\n",
       "      <th>finished</th>\n",
       "      <th>won</th>\n",
       "      <th>lost</th>\n",
       "      <th>winratio</th>\n",
       "    </tr>\n",
       "  </thead>\n",
       "  <tbody>\n",
       "    <tr>\n",
       "      <th>djkais</th>\n",
       "      <td>7474</td>\n",
       "      <td>7470</td>\n",
       "      <td>5734</td>\n",
       "      <td>1736</td>\n",
       "      <td>0.767604</td>\n",
       "    </tr>\n",
       "    <tr>\n",
       "      <th>MatMat8501</th>\n",
       "      <td>4729</td>\n",
       "      <td>4716</td>\n",
       "      <td>4025</td>\n",
       "      <td>691</td>\n",
       "      <td>0.853478</td>\n",
       "    </tr>\n",
       "    <tr>\n",
       "      <th>ia18</th>\n",
       "      <td>4177</td>\n",
       "      <td>4169</td>\n",
       "      <td>2408</td>\n",
       "      <td>1761</td>\n",
       "      <td>0.577597</td>\n",
       "    </tr>\n",
       "    <tr>\n",
       "      <th>Joao123</th>\n",
       "      <td>3679</td>\n",
       "      <td>3677</td>\n",
       "      <td>2706</td>\n",
       "      <td>971</td>\n",
       "      <td>0.735926</td>\n",
       "    </tr>\n",
       "    <tr>\n",
       "      <th>fischietto</th>\n",
       "      <td>3008</td>\n",
       "      <td>3007</td>\n",
       "      <td>2571</td>\n",
       "      <td>436</td>\n",
       "      <td>0.855005</td>\n",
       "    </tr>\n",
       "  </tbody>\n",
       "</table>\n",
       "</div>"
      ],
      "text/plain": [
       "            games_played  finished   won  lost  winratio\n",
       "djkais              7474      7470  5734  1736  0.767604\n",
       "MatMat8501          4729      4716  4025   691  0.853478\n",
       "ia18                4177      4169  2408  1761  0.577597\n",
       "Joao123             3679      3677  2706   971  0.735926\n",
       "fischietto          3008      3007  2571   436  0.855005"
      ]
     },
     "execution_count": 9,
     "metadata": {},
     "output_type": "execute_result"
    }
   ],
   "source": [
    "players[\"won\"] = players[\"won_as_starting_player\"] + players[\"won_as_last_player\"]\n",
    "players[\"lost\"] = players[\"lost_as_starting_player\"] + players[\"lost_as_last_player\"]\n",
    "players[\"finished\"] = players[\"won\"] + players[\"lost\"]\n",
    "players[\"winratio\"] = players[\"won\"] / players[\"finished\"]\n",
    "\n",
    "players[[\"games_played\", \"finished\", \"won\", \"lost\", \"winratio\"]].head()"
   ]
  },
  {
   "cell_type": "markdown",
   "metadata": {},
   "source": [
    "Looks like some games are missing results..."
   ]
  },
  {
   "cell_type": "code",
   "execution_count": 10,
   "metadata": {},
   "outputs": [
    {
     "data": {
      "text/plain": [
       "307"
      ]
     },
     "execution_count": 10,
     "metadata": {},
     "output_type": "execute_result"
    }
   ],
   "source": [
    "data[data[\"winner\"] == \"\"].count()[\"game_id\"]"
   ]
  },
  {
   "cell_type": "markdown",
   "metadata": {},
   "source": [
    "Not too bad. Let's see most successful players with more than 100 games:"
   ]
  },
  {
   "cell_type": "code",
   "execution_count": 11,
   "metadata": {},
   "outputs": [
    {
     "data": {
      "text/html": [
       "<div>\n",
       "<style scoped>\n",
       "    .dataframe tbody tr th:only-of-type {\n",
       "        vertical-align: middle;\n",
       "    }\n",
       "\n",
       "    .dataframe tbody tr th {\n",
       "        vertical-align: top;\n",
       "    }\n",
       "\n",
       "    .dataframe thead th {\n",
       "        text-align: right;\n",
       "    }\n",
       "</style>\n",
       "<table border=\"1\" class=\"dataframe\">\n",
       "  <thead>\n",
       "    <tr style=\"text-align: right;\">\n",
       "      <th></th>\n",
       "      <th>finished</th>\n",
       "      <th>won</th>\n",
       "      <th>lost</th>\n",
       "      <th>winratio</th>\n",
       "    </tr>\n",
       "  </thead>\n",
       "  <tbody>\n",
       "    <tr>\n",
       "      <th>deszczyk</th>\n",
       "      <td>504</td>\n",
       "      <td>489</td>\n",
       "      <td>15</td>\n",
       "      <td>0.970238</td>\n",
       "    </tr>\n",
       "    <tr>\n",
       "      <th>aley</th>\n",
       "      <td>155</td>\n",
       "      <td>146</td>\n",
       "      <td>9</td>\n",
       "      <td>0.941935</td>\n",
       "    </tr>\n",
       "    <tr>\n",
       "      <th>Tejo</th>\n",
       "      <td>172</td>\n",
       "      <td>150</td>\n",
       "      <td>22</td>\n",
       "      <td>0.872093</td>\n",
       "    </tr>\n",
       "    <tr>\n",
       "      <th>paulat</th>\n",
       "      <td>132</td>\n",
       "      <td>113</td>\n",
       "      <td>19</td>\n",
       "      <td>0.856061</td>\n",
       "    </tr>\n",
       "    <tr>\n",
       "      <th>fischietto</th>\n",
       "      <td>3007</td>\n",
       "      <td>2571</td>\n",
       "      <td>436</td>\n",
       "      <td>0.855005</td>\n",
       "    </tr>\n",
       "    <tr>\n",
       "      <th>MatMat8501</th>\n",
       "      <td>4716</td>\n",
       "      <td>4025</td>\n",
       "      <td>691</td>\n",
       "      <td>0.853478</td>\n",
       "    </tr>\n",
       "    <tr>\n",
       "      <th>kim81</th>\n",
       "      <td>102</td>\n",
       "      <td>86</td>\n",
       "      <td>16</td>\n",
       "      <td>0.843137</td>\n",
       "    </tr>\n",
       "    <tr>\n",
       "      <th>kragonn</th>\n",
       "      <td>140</td>\n",
       "      <td>118</td>\n",
       "      <td>22</td>\n",
       "      <td>0.842857</td>\n",
       "    </tr>\n",
       "  </tbody>\n",
       "</table>\n",
       "</div>"
      ],
      "text/plain": [
       "            finished   won  lost  winratio\n",
       "deszczyk         504   489    15  0.970238\n",
       "aley             155   146     9  0.941935\n",
       "Tejo             172   150    22  0.872093\n",
       "paulat           132   113    19  0.856061\n",
       "fischietto      3007  2571   436  0.855005\n",
       "MatMat8501      4716  4025   691  0.853478\n",
       "kim81            102    86    16  0.843137\n",
       "kragonn          140   118    22  0.842857"
      ]
     },
     "execution_count": 11,
     "metadata": {},
     "output_type": "execute_result"
    }
   ],
   "source": [
    "players[[\"finished\", \"won\", \"lost\", \"winratio\"]][players[\"finished\"] > 100].sort_values(by=[\"winratio\"], ascending=False).head(8)"
   ]
  },
  {
   "cell_type": "markdown",
   "metadata": {},
   "source": [
    "Practice makes perfect - two of the players from the top 5 most games played appear in top 10 for the win ratio. Let's see average win ratio by games played..."
   ]
  },
  {
   "cell_type": "code",
   "execution_count": 12,
   "metadata": {},
   "outputs": [
    {
     "data": {
      "image/png": "[encoded data removed]",
      "text/plain": [
       "<matplotlib.figure.Figure at 0x7f7c2c4706a0>"
      ]
     },
     "metadata": {},
     "output_type": "display_data"
    }
   ],
   "source": [
    "players[\"group\"] = 10 ** np.floor(np.log10(games_played))\n",
    "\n",
    "win_ratios = players.groupby(players[\"group\"]).mean()[[\"last_winratio\", \"winratio\", \"start_winratio\"]]\n",
    "plot = win_ratios.plot(kind=\"bar\", colormap=\"Paired\")\n",
    "plot.set_ylabel(\"average win rate\")\n",
    "plot.set_xlabel(\"games played\")\n",
    "plot.legend([\"win ratio going second\", \"win ratio overall\", \"win ratio going first\"])\n",
    "pass"
   ]
  },
  {
   "cell_type": "markdown",
   "metadata": {},
   "source": [
    "## Games"
   ]
  },
  {
   "cell_type": "code",
   "execution_count": 13,
   "metadata": {},
   "outputs": [],
   "source": [
    "games = data.copy()\n",
    "games[\"record\"] = data[\"record\"].str.split(\";\")\n",
    "games_with_result = games[games[\"winner\"] != \"\"]"
   ]
  },
  {
   "cell_type": "markdown",
   "metadata": {},
   "source": [
    "Start by looking how long the games last:"
   ]
  },
  {
   "cell_type": "code",
   "execution_count": 14,
   "metadata": {},
   "outputs": [
    {
     "data": {
      "image/png": "[encoded data removed]",
      "text/plain": [
       "<matplotlib.figure.Figure at 0x7f733e67feb8>"
      ]
     },
     "metadata": {},
     "output_type": "display_data"
    }
   ],
   "source": [
    "by_game_length = games[\"record\"].apply(lambda x: len(x)).sort_values().reset_index(drop=True)\n",
    "plot = by_game_length.plot()\n",
    "plot.set_ylabel(\"moves in a game\")\n",
    "plot.set_xlabel(\"games\")\n",
    "pass"
   ]
  },
  {
   "cell_type": "markdown",
   "metadata": {},
   "source": [
    "It's cut off at 15 moves - shorter games were removed from the collection as they were deemed more noisy and less useful. There weren't that many of them anyway. The average game length is around 50 moves (that'd be 25 moves using chess move counting). One in twenty games lasts longer than 80 moves.\n",
    "\n",
    "Let's look at the usual first and second moves:"
   ]
  },
  {
   "cell_type": "code",
   "execution_count": 15,
   "metadata": {},
   "outputs": [
    {
     "data": {
      "text/plain": [
       "e2     207483\n",
       "e8h      2788\n",
       "e1h      1033\n",
       "f1       1017\n",
       "d1        960\n",
       "Name: record, dtype: int64"
      ]
     },
     "execution_count": 15,
     "metadata": {},
     "output_type": "execute_result"
    }
   ],
   "source": [
    "games[\"record\"].apply(lambda x: x[0]).value_counts().head()"
   ]
  },
  {
   "cell_type": "markdown",
   "metadata": {},
   "source": [
    "The most popular move is going forward. No surprise. However, the second and third most popular moves are polar opposites of each other: putting a wall in front of the opponent and putting a wall in front of oneself. Extremely curious."
   ]
  },
  {
   "cell_type": "code",
   "execution_count": 16,
   "metadata": {},
   "outputs": [
    {
     "data": {
      "text/plain": [
       "0.35188509874326751"
      ]
     },
     "execution_count": 16,
     "metadata": {},
     "output_type": "execute_result"
    }
   ],
   "source": [
    "block_opponent = games_with_result[games_with_result[\"record\"].apply(lambda x: x[0] == \"e8h\")]\n",
    "block_opponent_win = block_opponent[block_opponent[\"winner\"] == \"x\"].count()[\"winner\"]\n",
    "block_opponent_win / block_opponent.count()[\"winner\"]"
   ]
  },
  {
   "cell_type": "markdown",
   "metadata": {},
   "source": [
    "One third to win if you start by blocking your opponent! Not a success."
   ]
  },
  {
   "cell_type": "code",
   "execution_count": 17,
   "metadata": {},
   "outputs": [
    {
     "data": {
      "text/plain": [
       "0.42926356589147285"
      ]
     },
     "execution_count": 17,
     "metadata": {},
     "output_type": "execute_result"
    }
   ],
   "source": [
    "block_self = games_with_result[games_with_result[\"record\"].apply(lambda x: x[0] == \"e1h\")]\n",
    "block_self_win = block_self[block_self[\"winner\"] == \"x\"].count()[\"winner\"]\n",
    "block_self_win / block_self.count()[\"winner\"]"
   ]
  },
  {
   "cell_type": "markdown",
   "metadata": {},
   "source": [
    "Blocking yourself is better than blocking your opponent, but still less than 50% winrate. Perhaps this would have been a good move, but for the cost of losing a wall."
   ]
  },
  {
   "cell_type": "code",
   "execution_count": 18,
   "metadata": {},
   "outputs": [
    {
     "data": {
      "text/plain": [
       "e8     189265\n",
       "e2v      9413\n",
       "d2h      4558\n",
       "d2v      3895\n",
       "d9       3099\n",
       "Name: record, dtype: int64"
      ]
     },
     "execution_count": 18,
     "metadata": {},
     "output_type": "execute_result"
    }
   ],
   "source": [
    "games[\"record\"].apply(lambda x: x[1]).value_counts().head()"
   ]
  },
  {
   "cell_type": "markdown",
   "metadata": {},
   "source": [
    "For the second player, again the most popular move is going forward. The second most popular choice is a vertical wall next to oneself, and the third is horizontal wall next to not blocking oneself. Nothing too strange.\n",
    "\n",
    "Let's explore the move distribution.."
   ]
  },
  {
   "cell_type": "code",
   "execution_count": 19,
   "metadata": {},
   "outputs": [],
   "source": [
    "# this is a little slow...\n",
    "moves = pd.DataFrame(list(games[\"record\"])).iloc[:,0:100]"
   ]
  },
  {
   "cell_type": "code",
   "execution_count": 20,
   "metadata": {},
   "outputs": [],
   "source": [
    "def get_move_type(move):\n",
    "    if not isinstance(move, str):\n",
    "        return None\n",
    "\n",
    "    last = move[-1]\n",
    "    if last in [\"h\", \"v\"]:\n",
    "        return last\n",
    "    else:\n",
    "        return \"m\"\n",
    "\n",
    "move_stats = moves.applymap(get_move_type)"
   ]
  },
  {
   "cell_type": "code",
   "execution_count": 21,
   "metadata": {},
   "outputs": [
    {
     "data": {
      "image/png": "[encoded data removed]",
      "text/plain": [
       "<matplotlib.figure.Figure at 0x7f733e688080>"
      ]
     },
     "metadata": {},
     "output_type": "display_data"
    }
   ],
   "source": [
    "plot = move_stats.apply(pd.value_counts).transpose().plot(colormap=\"Paired\")\n",
    "plot.set_xlabel(\"move number\")\n",
    "plot.set_ylabel(\"plays\")\n",
    "plot.legend([\"horizontal wall\", \"pawn movement\", \"vertical wall\"])\n",
    "pass"
   ]
  },
  {
   "cell_type": "markdown",
   "metadata": {},
   "source": [
    "Not very exciting. People start by moving pawns towards each other, then there's a sharp rise of horizontal walls on pawn contact. After that, for a while it's about even - moving and placing walls, after which there's a spike of movement as players either run out of walls or save them for later."
   ]
  }
 ],
 "metadata": {
  "kernelspec": {
   "display_name": "Python 3",
   "language": "python",
   "name": "python3"
  },
  "language_info": {
   "codemirror_mode": {
    "name": "ipython",
    "version": 3
   },
   "file_extension": ".py",
   "mimetype": "text/x-python",
   "name": "python",
   "nbconvert_exporter": "python",
   "pygments_lexer": "ipython3",
   "version": "3.5.2"
  }
 },
 "nbformat": 4,
 "nbformat_minor": 2
}
